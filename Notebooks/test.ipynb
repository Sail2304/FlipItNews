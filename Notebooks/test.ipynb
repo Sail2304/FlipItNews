{
 "cells": [
  {
   "cell_type": "code",
   "execution_count": 6,
   "metadata": {},
   "outputs": [],
   "source": [
    "import pickle\n",
    "from pathlib import Path\n",
    "with open(Path(\"D:/FlipItNews/FlipItNews/Artifacts/Encoders/vectorizer.pkl\"),\"rb\") as f:\n",
    "    vectorizer = pickle.load(f)\n",
    "# doc = \"\"\"share boost feud hit reliance board indian conglomerate \n",
    "#         reliance agreed share buy back counter effect power struggle \n",
    "#         controlling family buy back victory chairman mukesh ambani whose \n",
    "#         idea brother anil vice chairman said consulted buy back completely \n",
    "#         inappropriate unnecessary board hope move reverse fall reliance \n",
    "#         share since feud became public last month company fractious since \n",
    "#         founder dhirubhai ambani died leaving today round gone mukesh doubt \n",
    "#         said nanik rupani president indian merchant chamber bombay based trader \n",
    "#         body company plan buy back million share rupee apiece premium current market price\"\"\"\n",
    "# vectorizer"
   ]
  },
  {
   "cell_type": "code",
   "execution_count": 14,
   "metadata": {},
   "outputs": [
    {
     "data": {
      "text/plain": [
       "array([[0., 0., 0., ..., 0., 0., 0.]], shape=(1, 22560))"
      ]
     },
     "execution_count": 14,
     "metadata": {},
     "output_type": "execute_result"
    }
   ],
   "source": [
    "import numpy as np\n",
    "doc = np.array([\"\"\"iaaf contest greek decision international association \n",
    "                athletics federation appeal acquittal greek athlete \n",
    "                kostas kenteris katerina thanou high profile duo \n",
    "                cleared doping offence greek athletics federation \n",
    "                segas last month iaaf lodge appeal court arbitration sport \n",
    "                ca suspended athlete iaaf statement said doping review board concluded \n",
    "                decision erroneous statement continued athlete case refered arbitration ca \n",
    "                decision case final binding segas said iaaf appeal expected understandable \n",
    "                going await final result prejudge said segas chairman vassilis sevastis kenteris olympic gold olympics thanou suspended iaaf last december failing take routine drug test athens game however independent tribunal overturned ban clearing sprinter avoiding test tel aviv chicago athens failing notify anti doping official whereabouts olympics kenteris lawyer gregory ioannidis described iaaf decision unexpected told bbc sport expect organisation take action quickly iaaf timing extremely surprising creates concern question said ioannidis iaaf yet received complete file proceeding include statement testimony closing speech defence counsel nine audio tape evidence time world discovered truth kenteris thanou dramatically withdrew last summer olympics missing drug test olympic village august pair spent four day hospital claiming injured motorcycle crash international olympic committee demanded iaaf investigate affair thanou kenteris still face criminal trial later year allegedly avoiding test faking \n",
    "                motorcycle accident\"\"\"])\n",
    "x = vectorizer.transform(doc).toarray()\n",
    "x"
   ]
  },
  {
   "cell_type": "code",
   "execution_count": 15,
   "metadata": {},
   "outputs": [],
   "source": [
    "with open(Path(\"D:/FlipItNews/FlipItNews/Artifacts/Model/model.pkl\"),\"rb\") as f:\n",
    "    model = pickle.load(f)\n",
    "\n"
   ]
  },
  {
   "cell_type": "code",
   "execution_count": 16,
   "metadata": {},
   "outputs": [
    {
     "data": {
      "text/plain": [
       "array([3])"
      ]
     },
     "execution_count": 16,
     "metadata": {},
     "output_type": "execute_result"
    }
   ],
   "source": [
    "model.predict(x)"
   ]
  },
  {
   "cell_type": "code",
   "execution_count": 17,
   "metadata": {},
   "outputs": [],
   "source": [
    "with open(Path(\"D:/FlipItNews/FlipItNews/Artifacts/Encoders/category.pkl\"),\"rb\") as f:\n",
    "    encoder = pickle.load(f)\n",
    "\n"
   ]
  },
  {
   "cell_type": "code",
   "execution_count": 21,
   "metadata": {},
   "outputs": [
    {
     "data": {
      "text/plain": [
       "'Sports'"
      ]
     },
     "execution_count": 21,
     "metadata": {},
     "output_type": "execute_result"
    }
   ],
   "source": [
    "encoder.inverse_transform(model.predict(x))[0]"
   ]
  },
  {
   "cell_type": "code",
   "execution_count": null,
   "metadata": {},
   "outputs": [],
   "source": []
  }
 ],
 "metadata": {
  "kernelspec": {
   "display_name": "venv",
   "language": "python",
   "name": "python3"
  },
  "language_info": {
   "codemirror_mode": {
    "name": "ipython",
    "version": 3
   },
   "file_extension": ".py",
   "mimetype": "text/x-python",
   "name": "python",
   "nbconvert_exporter": "python",
   "pygments_lexer": "ipython3",
   "version": "3.10.5"
  }
 },
 "nbformat": 4,
 "nbformat_minor": 2
}
